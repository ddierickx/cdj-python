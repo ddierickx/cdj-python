{
 "cells": [
  {
   "cell_type": "markdown",
   "metadata": {},
   "source": [
    "# Python inleiding"
   ]
  },
  {
   "cell_type": "markdown",
   "metadata": {},
   "source": [
    "##Deel 3 - Lijsten"
   ]
  },
  {
   "cell_type": "markdown",
   "metadata": {},
   "source": [
    "<font size=\"4px\">In het vorige deel hebben we het gehad over variabelen en types. We hebben een aantal basis types besproken: strings, booleans, ints en floats. In dit deel gaan we een nieuw type introduceren: de lijst. In een lijst kan je verschillende waarden opslaan.</font>"
   ]
  },
  {
   "cell_type": "markdown",
   "metadata": {},
   "source": [
    "<hr />"
   ]
  },
  {
   "cell_type": "markdown",
   "metadata": {},
   "source": [
    "###Lijsten maken"
   ]
  },
  {
   "cell_type": "markdown",
   "metadata": {},
   "source": [
    "Hieronder kan je een voorbeeld zien van een lijst."
   ]
  },
  {
   "cell_type": "markdown",
   "metadata": {},
   "source": [
    "|Ingredienten|\n",
    "|-----------|\n",
    "|Boter|\n",
    "|Eieren|\n",
    "|Bloem|\n",
    "|Suiker|\n",
    "|Melk|"
   ]
  },
  {
   "cell_type": "markdown",
   "metadata": {},
   "source": [
    "In een lijst is de **volgorde** heel belangrijk, elk element in de lijst krijgt een **volgnummer** of **index**. Let wel: we beginnen te tellen bij 0, dus het eerste element heeft index 0. Krijg jij ook al zin in pannekoeken?"
   ]
  },
  {
   "cell_type": "markdown",
   "metadata": {},
   "source": [
    "|Index|Ingredient|\n",
    "|-----|------------|\n",
    "|**0**|Boter|\n",
    "|1|Eieren|\n",
    "|2|Bloem|\n",
    "|3|Suiker|\n",
    "|4|Melk|"
   ]
  },
  {
   "cell_type": "markdown",
   "metadata": {},
   "source": [
    "Nu je weet wat een lijst is zullen we tonen hoe je lijsten kan maken en gebruiken in Python."
   ]
  },
  {
   "cell_type": "code",
   "execution_count": 4,
   "metadata": {
    "collapsed": false
   },
   "outputs": [
    {
     "data": {
      "text/plain": [
       "list"
      ]
     },
     "execution_count": 4,
     "metadata": {},
     "output_type": "execute_result"
    }
   ],
   "source": [
    "ingredienten = [ \"boter\", \"eieren\", \"bloem\", \"suiker\", \"melk\" ]\n",
    "type(ingredienten)"
   ]
  },
  {
   "cell_type": "markdown",
   "metadata": {},
   "source": [
    "We hebben net een variabele **ingredienten** gedefinieerd en onze ingredienten toegevoegd. Daarna vroegen we aan Python wat het type van onze variabele is: **list** (lijst)."
   ]
  },
  {
   "cell_type": "markdown",
   "metadata": {},
   "source": [
    "### Lijsten bekijken en wijzigen"
   ]
  },
  {
   "cell_type": "markdown",
   "metadata": {},
   "source": [
    "Nu kunnen we de elementen uit de lijst ophalen door de index te gebruiken, stel dat we het element \"suiker\" will ophalen, dan weten we dat kunnen vinden op index 3."
   ]
  },
  {
   "cell_type": "code",
   "execution_count": 5,
   "metadata": {
    "collapsed": false
   },
   "outputs": [
    {
     "data": {
      "text/plain": [
       "'suiker'"
      ]
     },
     "execution_count": 5,
     "metadata": {},
     "output_type": "execute_result"
    }
   ],
   "source": [
    "ingredienten[3]"
   ]
  },
  {
   "cell_type": "markdown",
   "metadata": {},
   "source": [
    "Je kan een element toevoegen aan de lijst door de functie **append** (toevoegen) te gebruiken."
   ]
  },
  {
   "cell_type": "code",
   "execution_count": 6,
   "metadata": {
    "collapsed": false
   },
   "outputs": [
    {
     "name": "stdout",
     "output_type": "stream",
     "text": [
      "['boter', 'eieren', 'bloem', 'suiker', 'melk', 'zout']\n"
     ]
    }
   ],
   "source": [
    "ingredienten.append(\"zout\")\n",
    "print(ingredienten)"
   ]
  },
  {
   "cell_type": "markdown",
   "metadata": {},
   "source": [
    "En je kan een element wissen door de functie **remove** (verwijder) te gebruiken."
   ]
  },
  {
   "cell_type": "code",
   "execution_count": 7,
   "metadata": {
    "collapsed": false
   },
   "outputs": [
    {
     "name": "stdout",
     "output_type": "stream",
     "text": [
      "['boter', 'eieren', 'bloem', 'suiker', 'melk']\n"
     ]
    }
   ],
   "source": [
    "ingredienten.remove(\"zout\")\n",
    "print(ingredienten)"
   ]
  },
  {
   "cell_type": "markdown",
   "metadata": {},
   "source": [
    "Het is ook mogelijk om iets uit de lijst te wissen op basis van de index in de lijst. Hier gaan we het eerste element wissen (bloem) door de functie **pop** te gebruiken."
   ]
  },
  {
   "cell_type": "code",
   "execution_count": 8,
   "metadata": {
    "collapsed": false
   },
   "outputs": [
    {
     "name": "stdout",
     "output_type": "stream",
     "text": [
      "['eieren', 'bloem', 'suiker', 'melk']\n"
     ]
    }
   ],
   "source": [
    "ingredienten.pop(0)\n",
    "print(ingredienten)"
   ]
  },
  {
   "cell_type": "markdown",
   "metadata": {},
   "source": [
    "We willen boter terug in de lijst maar op na bloem, dat kan je doen door de functie **insert** te gebruiken met als argumenten de index waarop jet het element wil en als tweede argument het element dat je wil toevoegen aan de lijst."
   ]
  },
  {
   "cell_type": "code",
   "execution_count": 9,
   "metadata": {
    "collapsed": false
   },
   "outputs": [
    {
     "data": {
      "text/plain": [
       "['eieren', 'bloem', 'boter', 'suiker', 'melk']"
      ]
     },
     "execution_count": 9,
     "metadata": {},
     "output_type": "execute_result"
    }
   ],
   "source": [
    "ingredienten.insert(2, \"boter\")\n",
    "ingredienten"
   ]
  },
  {
   "cell_type": "markdown",
   "metadata": {},
   "source": [
    "We willen controleren of 'gist' in onze ingrediëntenlijst zit. Het resultaat hiervan is een boolean (Ja/nee waarde), dit zal nog van pas komen in de volgende les (Controlstructuren)."
   ]
  },
  {
   "cell_type": "code",
   "execution_count": 10,
   "metadata": {
    "collapsed": false
   },
   "outputs": [
    {
     "data": {
      "text/plain": [
       "False"
      ]
     },
     "execution_count": 10,
     "metadata": {},
     "output_type": "execute_result"
    }
   ],
   "source": [
    "'gist' in ingredienten"
   ]
  },
  {
   "cell_type": "markdown",
   "metadata": {},
   "source": [
    "### Functies op lijsten"
   ]
  },
  {
   "cell_type": "markdown",
   "metadata": {},
   "source": [
    "We kunnen ook vragen aan Python hoeveel elementen er in onze lijst zitten door de functie *len* te gebruiken."
   ]
  },
  {
   "cell_type": "code",
   "execution_count": 77,
   "metadata": {
    "collapsed": false
   },
   "outputs": [
    {
     "data": {
      "text/plain": [
       "4"
      ]
     },
     "execution_count": 77,
     "metadata": {},
     "output_type": "execute_result"
    }
   ],
   "source": [
    "len(ingredienten)"
   ]
  },
  {
   "cell_type": "markdown",
   "metadata": {},
   "source": [
    "Wil je het lijstje alfabetisch laten sorteren? Dan kan je de functie **sorted** gebruiken."
   ]
  },
  {
   "cell_type": "code",
   "execution_count": 78,
   "metadata": {
    "collapsed": false
   },
   "outputs": [
    {
     "data": {
      "text/plain": [
       "['bloem', 'eieren', 'melk', 'suiker']"
      ]
     },
     "execution_count": 78,
     "metadata": {},
     "output_type": "execute_result"
    }
   ],
   "source": [
    "sorted(ingredienten)"
   ]
  },
  {
   "cell_type": "markdown",
   "metadata": {},
   "source": [
    "Om een lijst om te keren kan je de functie **reverse** gebruiken."
   ]
  },
  {
   "cell_type": "code",
   "execution_count": 92,
   "metadata": {
    "collapsed": false
   },
   "outputs": [
    {
     "name": "stdout",
     "output_type": "stream",
     "text": [
      "['melk', 'suiker', 'boter', 'bloem', 'eieren']\n"
     ]
    }
   ],
   "source": [
    "ingredienten.reverse()\n",
    "print(ingredienten)"
   ]
  },
  {
   "cell_type": "markdown",
   "metadata": {},
   "source": [
    "Je kan lijsten maken van allerlei types, hier is een lijstje van integers. Elk getal stelt het aantal doelpunten voor in een voetbalwedstrijd."
   ]
  },
  {
   "cell_type": "code",
   "execution_count": 79,
   "metadata": {
    "collapsed": true
   },
   "outputs": [],
   "source": [
    "doelpunten = [ 1, 2, 0, 1, 3 ]"
   ]
  },
  {
   "cell_type": "markdown",
   "metadata": {},
   "source": [
    "Hoeveel doelpunten zijn er gemaakt in totaal? Hiervoor kan je de functie **sum** gebruiken."
   ]
  },
  {
   "cell_type": "code",
   "execution_count": 80,
   "metadata": {
    "collapsed": false
   },
   "outputs": [
    {
     "data": {
      "text/plain": [
       "7"
      ]
     },
     "execution_count": 80,
     "metadata": {},
     "output_type": "execute_result"
    }
   ],
   "source": [
    "sum(doelpunten)"
   ]
  },
  {
   "cell_type": "markdown",
   "metadata": {},
   "source": [
    "Wat is het meeste aantal doelpunten dat gemaakt werd? En het minste? Daarvoor kan je de functies **max** en **min** gebruiken."
   ]
  },
  {
   "cell_type": "code",
   "execution_count": 93,
   "metadata": {
    "collapsed": false
   },
   "outputs": [
    {
     "name": "stdout",
     "output_type": "stream",
     "text": [
      "(0, 3)\n"
     ]
    }
   ],
   "source": [
    "print(min(doelpunten), max(doelpunten))"
   ]
  },
  {
   "cell_type": "markdown",
   "metadata": {},
   "source": [
    "###Strings (teksten) zijn ook lijsten "
   ]
  },
  {
   "cell_type": "markdown",
   "metadata": {},
   "source": [
    "In Python kan je strings gebruiken alsof het lijsten zijn. Op deze manier kan je het eerste karakter uit een string halen. "
   ]
  },
  {
   "cell_type": "code",
   "execution_count": 15,
   "metadata": {
    "collapsed": false
   },
   "outputs": [
    {
     "data": {
      "text/plain": [
       "'D'"
      ]
     },
     "execution_count": 15,
     "metadata": {},
     "output_type": "execute_result"
    }
   ],
   "source": [
    "naam = \"Dominiek\"\n",
    "naam[0]"
   ]
  },
  {
   "cell_type": "markdown",
   "metadata": {},
   "source": [
    "Net als bij lijsten kan je ook nagaan of een letter in een string voorkomt."
   ]
  },
  {
   "cell_type": "code",
   "execution_count": 16,
   "metadata": {
    "collapsed": false
   },
   "outputs": [
    {
     "data": {
      "text/plain": [
       "True"
      ]
     },
     "execution_count": 16,
     "metadata": {},
     "output_type": "execute_result"
    }
   ],
   "source": [
    "\"e\" in naam"
   ]
  },
  {
   "cell_type": "markdown",
   "metadata": {},
   "source": [
    "###Oefening 1"
   ]
  },
  {
   "cell_type": "markdown",
   "metadata": {},
   "source": [
    "Lena heeft net haar rapport gekregen, kan jij een lijst variabele maken met naam *rapport* van haar resultaten?"
   ]
  },
  {
   "cell_type": "markdown",
   "metadata": {},
   "source": [
    "|Vak|Resultaat|\n",
    "|-----|------------|\n",
    "|Wiskunde|8.5|\n",
    "|Nederlands|8|\n",
    "|Geschiedenis|7.5|\n",
    "|Frans|9|\n",
    "|Turnen|7|\n",
    "|Engels|6|"
   ]
  },
  {
   "cell_type": "code",
   "execution_count": null,
   "metadata": {
    "collapsed": false
   },
   "outputs": [],
   "source": []
  },
  {
   "cell_type": "markdown",
   "metadata": {},
   "source": [
    "###Oefening 2"
   ]
  },
  {
   "cell_type": "markdown",
   "metadata": {},
   "source": [
    "Kan jij Python laten berekenen wat het beste resultaat was? Je kan de variable *rapport* uit de vorige oefening gebruiken."
   ]
  },
  {
   "cell_type": "code",
   "execution_count": null,
   "metadata": {
    "collapsed": false
   },
   "outputs": [],
   "source": []
  },
  {
   "cell_type": "markdown",
   "metadata": {},
   "source": [
    "###Oefening 3"
   ]
  },
  {
   "cell_type": "markdown",
   "metadata": {},
   "source": [
    "Kan jij Python laten berekenen wat het beste resultaat was op het rapport?"
   ]
  },
  {
   "cell_type": "code",
   "execution_count": null,
   "metadata": {
    "collapsed": false
   },
   "outputs": [],
   "source": []
  },
  {
   "cell_type": "markdown",
   "metadata": {},
   "source": [
    "###Oefening 4"
   ]
  },
  {
   "cell_type": "markdown",
   "metadata": {},
   "source": [
    "<img src=\"img/fiets.jpg\" width=\"300px\" />"
   ]
  },
  {
   "cell_type": "markdown",
   "metadata": {},
   "source": [
    "Lena wil al lang een nieuwe fiets, ze krijgt die van haar ouders als ze gemiddeld meer dan 7.5 heeft gehaald op haar rapport. Kan jij met Python berekenen wat haar gemiddelde score is? Tip: je kan het gemiddelde berekenen door alle getallen op te tellen en te delen door het aantal getallen in de lijst."
   ]
  },
  {
   "cell_type": "code",
   "execution_count": null,
   "metadata": {
    "collapsed": false
   },
   "outputs": [],
   "source": []
  }
 ],
 "metadata": {
  "kernelspec": {
   "display_name": "Python 2",
   "language": "python",
   "name": "python2"
  },
  "language_info": {
   "codemirror_mode": {
    "name": "ipython",
    "version": 2
   },
   "file_extension": ".py",
   "mimetype": "text/x-python",
   "name": "python",
   "nbconvert_exporter": "python",
   "pygments_lexer": "ipython2",
   "version": "2.7.9"
  }
 },
 "nbformat": 4,
 "nbformat_minor": 0
}
