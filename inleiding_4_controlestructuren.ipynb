{
 "cells": [
  {
   "cell_type": "markdown",
   "metadata": {},
   "source": [
    "# Python inleiding"
   ]
  },
  {
   "cell_type": "markdown",
   "metadata": {},
   "source": [
    "##Deel 4 - Controlestructuren"
   ]
  },
  {
   "cell_type": "markdown",
   "metadata": {},
   "source": [
    "<font size=\"4px\">Wat een ingewikkeld woord! Herinner je deze blokjes nog uit Scratch?\n",
    "<img src=\"img/controlestructuren.png\" />\n",
    "Dit zijn <b>controlestructuren</b>: ze bepalen welke stappen in een programma worden uitgevoerd en hoeveel keer.\n",
    "\n",
    "Uiteraard kan je ook in Python deze structuren gebruiken maar daar moet je een woordje Engels voor kunnen, geen nood we overlopen hier de belangrijkste structuren.</font>"
   ]
  },
  {
   "cell_type": "markdown",
   "metadata": {},
   "source": [
    "<hr />"
   ]
  },
  {
   "cell_type": "markdown",
   "metadata": {},
   "source": [
    "### if ... else (Als ... Dan ... Anders)"
   ]
  },
  {
   "cell_type": "markdown",
   "metadata": {},
   "source": [
    "Eén van de meest gebruikte structuren is een if-then-else, je kan de computer hiermee een beslissing laten nemen."
   ]
  },
  {
   "cell_type": "code",
   "execution_count": 8,
   "metadata": {
    "collapsed": false
   },
   "outputs": [
    {
     "name": "stdout",
     "output_type": "stream",
     "text": [
      "Jij bent ouder dan 10\n"
     ]
    }
   ],
   "source": [
    "leeftijd = 12\n",
    "\n",
    "if leeftijd > 10:\n",
    "    print(\"Jij bent ouder dan 10\")\n",
    "else:\n",
    "    print(\"Jij bent 10 jaar of jonger\")"
   ]
  },
  {
   "cell_type": "markdown",
   "metadata": {},
   "source": [
    "Bestudeer elke letter hierboven eens goed... Eerst hebben we een variabele 'leeftijd' gemaakt, zoals we in les 2 gezien hebben, niets nieuws tot zover.\n",
    "\n",
    "Daarna beginnen we aan onze eerste if-then-else structuur. Die begint met de tekst \"if\" (Als), die moet gevolgd worden door een spatie. Na de spatie moet iets staan wat een boolean (ja/nee waarde, zie les 2) terug geeft. In dit geval hebben we de computer laten nakijken of de waarde van leeftijd (12) groter (>) is dan 10. Na die vergelijking zou in Scratch het woordje \"Dan\" komen, maar dat is niet nodig in Python, hier gebruiken we een dubbel-punt teken (:).\n",
    "\n",
    "Wat er wordt uitgevoerd als ons Als-blokje waar is komt hierna. Je kan zien dat de print lijn niet gelijk staat met de bovenstaande lijn maar een beetje \"inspringt\". Dit noemen we \"indentatie\" en dat vindt Python héél belangrijk. Stel je voor dat we geen insprong hadden, dan had onze code toch veel moelijker geweest om te lezen niet? Een insprong kan je maken door 4 spaties te typen of door op je TAB toets te duwen. Je zal zien dat het begrip indentatie voor alle andere controlestructuren zal terugkomen.\n",
    "\n",
    "Een \"else\" (Anders) lijn heb je niet altijd nodig, dat hangt er van af wat je exact wil gaan doen. In ons voorbeeld kan je zien dat je enkel \"else:\" hoeft te type, weliswaar zonder indentatie! Let wel op want net als bij de code in het \"if\" blok moet je ook de code van het \"else\" blok indenteren.\n",
    "\n"
   ]
  },
  {
   "cell_type": "markdown",
   "metadata": {},
   "source": [
    "### While (Herhaal)"
   ]
  },
  {
   "cell_type": "markdown",
   "metadata": {},
   "source": [
    "Een while (Herhaal) lus maakt het mogelijk een stukje code meerdere malen uit te voeren of zolang iets voldaan is."
   ]
  },
  {
   "cell_type": "code",
   "execution_count": 9,
   "metadata": {
    "collapsed": false
   },
   "outputs": [
    {
     "name": "stdout",
     "output_type": "stream",
     "text": [
      "1\n",
      "2\n",
      "3\n",
      "4\n",
      "5\n"
     ]
    }
   ],
   "source": [
    "aantal = 1\n",
    "\n",
    "while aantal < 6:\n",
    "    print(aantal)\n",
    "    aantal = aantal + 1"
   ]
  },
  {
   "cell_type": "markdown",
   "metadata": {
    "collapsed": true
   },
   "source": [
    "Bovenstaand stukje code zal de waarde van de variabele 'aantal' afdrukken zolang de waarde kleiner is dan 6. Elke keer de waarde afgedrukt worden zal de waarde met 1 verhoogd worden. Wat zou er gebeuren als je dat niet zou doen?"
   ]
  },
  {
   "cell_type": "markdown",
   "metadata": {
    "collapsed": true
   },
   "source": [
    "###For (Voor Alle)"
   ]
  },
  {
   "cell_type": "markdown",
   "metadata": {
    "collapsed": true
   },
   "source": [
    "In de vorige les (3) hebben we lijsten gezien. Een volgende belangrijke controlestructuur is de 'for' lus. Net als de 'while' lus laat deze ons toe iets een aantal keer te doen. Een verschil is dat de 'for' lus speciaal gemaakt is om over lijsten te lopen."
   ]
  },
  {
   "cell_type": "code",
   "execution_count": 10,
   "metadata": {
    "collapsed": false
   },
   "outputs": [
    {
     "name": "stdout",
     "output_type": "stream",
     "text": [
      "('Hallo ', 'Alicia')\n",
      "('Hallo ', 'Sander')\n",
      "('Hallo ', 'Eli')\n",
      "('Hallo ', 'Mona')\n"
     ]
    }
   ],
   "source": [
    "namen = [ \"Alicia\", \"Sander\", \"Eli\", \"Mona\" ]\n",
    "\n",
    "for naam in namen:\n",
    "    print(\"Hallo \", naam)"
   ]
  },
  {
   "cell_type": "markdown",
   "metadata": {},
   "source": [
    "In het voorbeeld hebben we een variabele 'namen' gemaakt. Dit is een lijst met 4 namen in. Hierna hebben we een 'for' (Voor alle) structuur gebruikt om over alle namen te lopen en ze af te drukken."
   ]
  },
  {
   "cell_type": "markdown",
   "metadata": {},
   "source": [
    "###Oefening 1"
   ]
  },
  {
   "cell_type": "markdown",
   "metadata": {
    "collapsed": false
   },
   "source": [
    "We hebben een variabele 'planeten' gemaakt die alle planeten in ons zonnestelsel bevat. Kan jij een programma schrijven dat de namen van alle planeten afdrukt die de letter 'a' bevatten?\n"
   ]
  },
  {
   "cell_type": "code",
   "execution_count": 11,
   "metadata": {
    "collapsed": true
   },
   "outputs": [],
   "source": [
    "planeten = [ \"Mercurius\", \"Venus\", \"Aarde\", \"Mars\", \"Jupiter\", \"Saturnus\", \"Uranus\", \"Neptunus\", \"Pluto\" ]"
   ]
  },
  {
   "cell_type": "markdown",
   "metadata": {},
   "source": [
    "###Oefening 2"
   ]
  },
  {
   "cell_type": "markdown",
   "metadata": {},
   "source": [
    "Schrijf een programma dat de gebruiker om een getal vraagt en dat getal vergelijkt met het vorige getal dat werd ingegeven. Is hoger druk dan \"hoger\" af, is het lager, druk dan \"lager\" af."
   ]
  }
 ],
 "metadata": {
  "kernelspec": {
   "display_name": "Python 2",
   "language": "python",
   "name": "python2"
  },
  "language_info": {
   "codemirror_mode": {
    "name": "ipython",
    "version": 2
   },
   "file_extension": ".py",
   "mimetype": "text/x-python",
   "name": "python",
   "nbconvert_exporter": "python",
   "pygments_lexer": "ipython2",
   "version": "2.7.9"
  }
 },
 "nbformat": 4,
 "nbformat_minor": 0
}
